{
 "cells": [
  {
   "cell_type": "code",
   "execution_count": 1,
   "id": "d5a8fd5b",
   "metadata": {},
   "outputs": [],
   "source": [
    "import pandas as pd\n",
    "import numpy as np\n",
    "import os"
   ]
  },
  {
   "cell_type": "code",
   "execution_count": 2,
   "id": "ec61ed63",
   "metadata": {},
   "outputs": [],
   "source": [
    "df = pd.read_csv('data/huyen-binh-chanh/data_clear/mua-duong-noi-bo.csv')"
   ]
  },
  {
   "cell_type": "code",
   "execution_count": 13,
   "id": "5cfe75d7",
   "metadata": {},
   "outputs": [
    {
     "data": {
      "text/html": [
       "<div>\n",
       "<style scoped>\n",
       "    .dataframe tbody tr th:only-of-type {\n",
       "        vertical-align: middle;\n",
       "    }\n",
       "\n",
       "    .dataframe tbody tr th {\n",
       "        vertical-align: top;\n",
       "    }\n",
       "\n",
       "    .dataframe thead th {\n",
       "        text-align: right;\n",
       "    }\n",
       "</style>\n",
       "<table border=\"1\" class=\"dataframe\">\n",
       "  <thead>\n",
       "    <tr style=\"text-align: right;\">\n",
       "      <th></th>\n",
       "      <th>Ngay_dang</th>\n",
       "      <th>Phuong</th>\n",
       "      <th>Quan</th>\n",
       "      <th>Thanh_pho</th>\n",
       "      <th>Gia_ban</th>\n",
       "      <th>Gia_m2</th>\n",
       "    </tr>\n",
       "  </thead>\n",
       "  <tbody>\n",
       "    <tr>\n",
       "      <th>0</th>\n",
       "      <td>01/08/2025</td>\n",
       "      <td>Xã Phạm Văn Hai</td>\n",
       "      <td>Huyện Bình Chánh</td>\n",
       "      <td>TPHCM</td>\n",
       "      <td>3.550000e+10</td>\n",
       "      <td>3.547871e+06</td>\n",
       "    </tr>\n",
       "    <tr>\n",
       "      <th>1</th>\n",
       "      <td>23/04/2025</td>\n",
       "      <td>Xã Vĩnh Lộc B</td>\n",
       "      <td>Huyện Bình Chánh</td>\n",
       "      <td>TPHCM</td>\n",
       "      <td>6.500000e+08</td>\n",
       "      <td>2.241379e+07</td>\n",
       "    </tr>\n",
       "    <tr>\n",
       "      <th>2</th>\n",
       "      <td>17/10/2024</td>\n",
       "      <td>Xã Vĩnh Lộc A</td>\n",
       "      <td>Huyện Bình Chánh</td>\n",
       "      <td>TPHCM</td>\n",
       "      <td>1.080000e+09</td>\n",
       "      <td>1.350000e+07</td>\n",
       "    </tr>\n",
       "    <tr>\n",
       "      <th>3</th>\n",
       "      <td>21/09/2024</td>\n",
       "      <td>Xã Tân Kiên</td>\n",
       "      <td>Huyện Bình Chánh</td>\n",
       "      <td>TPHCM</td>\n",
       "      <td>4.900000e+09</td>\n",
       "      <td>2.333333e+07</td>\n",
       "    </tr>\n",
       "    <tr>\n",
       "      <th>4</th>\n",
       "      <td>21/09/2024</td>\n",
       "      <td>Xã Tân Kiên</td>\n",
       "      <td>Huyện Bình Chánh</td>\n",
       "      <td>TPHCM</td>\n",
       "      <td>2.850000e+09</td>\n",
       "      <td>4.453125e+07</td>\n",
       "    </tr>\n",
       "  </tbody>\n",
       "</table>\n",
       "</div>"
      ],
      "text/plain": [
       "    Ngay_dang            Phuong               Quan Thanh_pho       Gia_ban  \\\n",
       "0  01/08/2025   Xã Phạm Văn Hai   Huyện Bình Chánh     TPHCM  3.550000e+10   \n",
       "1  23/04/2025     Xã Vĩnh Lộc B   Huyện Bình Chánh     TPHCM  6.500000e+08   \n",
       "2  17/10/2024     Xã Vĩnh Lộc A   Huyện Bình Chánh     TPHCM  1.080000e+09   \n",
       "3  21/09/2024       Xã Tân Kiên   Huyện Bình Chánh     TPHCM  4.900000e+09   \n",
       "4  21/09/2024       Xã Tân Kiên   Huyện Bình Chánh     TPHCM  2.850000e+09   \n",
       "\n",
       "         Gia_m2  \n",
       "0  3.547871e+06  \n",
       "1  2.241379e+07  \n",
       "2  1.350000e+07  \n",
       "3  2.333333e+07  \n",
       "4  4.453125e+07  "
      ]
     },
     "execution_count": 13,
     "metadata": {},
     "output_type": "execute_result"
    }
   ],
   "source": [
    "df.head()"
   ]
  },
  {
   "cell_type": "code",
   "execution_count": 4,
   "id": "10d34585",
   "metadata": {},
   "outputs": [],
   "source": [
    "df['Dien_tich_su_dung'] = df['Dien_tich_su_dung'].fillna(df['Dien_tich_dat'])"
   ]
  },
  {
   "cell_type": "code",
   "execution_count": 7,
   "id": "670483cb",
   "metadata": {},
   "outputs": [],
   "source": [
    "df['Gia_m2'] = df['Gia_ban'] / df['Dien_tich_su_dung']"
   ]
  },
  {
   "cell_type": "code",
   "execution_count": null,
   "id": "bde5f4a9",
   "metadata": {},
   "outputs": [],
   "source": [
    "df.drop(columns=['Ma_BDS', 'So_phong_ngu', 'So_nha_tam', 'Duong', 'Dien_tich_su_dung', 'Dien_tich_dat', 'Chieu_dai', 'Chieu_rong', 'Gia_ban'], inplace=True)"
   ]
  },
  {
   "cell_type": "code",
   "execution_count": 39,
   "id": "df121ec6",
   "metadata": {},
   "outputs": [],
   "source": [
    "# Biến giá trị của cột Ngay_dang thành dạng %m-%Y\n",
    "df['Ngay_dang'] = pd.to_datetime(df['Ngay_dang'], format='%d/%m/%Y').dt.to_period('M')"
   ]
  },
  {
   "cell_type": "code",
   "execution_count": 41,
   "id": "92e8bb74",
   "metadata": {},
   "outputs": [],
   "source": [
    "res = df.groupby(['Phuong', 'Ngay_dang']).agg({'Gia_m2': 'mean'}).reset_index()\n",
    "res.sort_values(by=['Ngay_dang'], inplace=True)\n",
    "res.reset_index(drop=True, inplace=True)"
   ]
  },
  {
   "cell_type": "code",
   "execution_count": 49,
   "id": "9c434b5e",
   "metadata": {},
   "outputs": [],
   "source": [
    "res['Quan'] = df['Quan']\n",
    "res['Thanh_pho'] = \"Thành phố Hồ Chí Minh\""
   ]
  },
  {
   "cell_type": "code",
   "execution_count": 50,
   "id": "fcb9b14e",
   "metadata": {},
   "outputs": [
    {
     "data": {
      "text/html": [
       "<div>\n",
       "<style scoped>\n",
       "    .dataframe tbody tr th:only-of-type {\n",
       "        vertical-align: middle;\n",
       "    }\n",
       "\n",
       "    .dataframe tbody tr th {\n",
       "        vertical-align: top;\n",
       "    }\n",
       "\n",
       "    .dataframe thead th {\n",
       "        text-align: right;\n",
       "    }\n",
       "</style>\n",
       "<table border=\"1\" class=\"dataframe\">\n",
       "  <thead>\n",
       "    <tr style=\"text-align: right;\">\n",
       "      <th></th>\n",
       "      <th>Phuong</th>\n",
       "      <th>Ngay_dang</th>\n",
       "      <th>Gia_m2</th>\n",
       "      <th>Quan</th>\n",
       "      <th>Thanh_pho</th>\n",
       "    </tr>\n",
       "  </thead>\n",
       "  <tbody>\n",
       "    <tr>\n",
       "      <th>0</th>\n",
       "      <td>Xã Vĩnh Lộc A</td>\n",
       "      <td>2021-01</td>\n",
       "      <td>0.000000e+00</td>\n",
       "      <td>Huyện Bình Chánh</td>\n",
       "      <td>Thành phố Hồ Chí Minh</td>\n",
       "    </tr>\n",
       "    <tr>\n",
       "      <th>1</th>\n",
       "      <td>Xã Vĩnh Lộc A</td>\n",
       "      <td>2021-03</td>\n",
       "      <td>3.557692e+07</td>\n",
       "      <td>Huyện Bình Chánh</td>\n",
       "      <td>Thành phố Hồ Chí Minh</td>\n",
       "    </tr>\n",
       "    <tr>\n",
       "      <th>2</th>\n",
       "      <td>Xã Phạm Văn Hai</td>\n",
       "      <td>2021-03</td>\n",
       "      <td>3.250000e+07</td>\n",
       "      <td>Huyện Bình Chánh</td>\n",
       "      <td>Thành phố Hồ Chí Minh</td>\n",
       "    </tr>\n",
       "    <tr>\n",
       "      <th>3</th>\n",
       "      <td>Xã Hưng Long</td>\n",
       "      <td>2021-03</td>\n",
       "      <td>7.666667e+06</td>\n",
       "      <td>Huyện Bình Chánh</td>\n",
       "      <td>Thành phố Hồ Chí Minh</td>\n",
       "    </tr>\n",
       "    <tr>\n",
       "      <th>4</th>\n",
       "      <td>Xã Tân Quý Tây</td>\n",
       "      <td>2021-04</td>\n",
       "      <td>1.009259e+07</td>\n",
       "      <td>Huyện Bình Chánh</td>\n",
       "      <td>Thành phố Hồ Chí Minh</td>\n",
       "    </tr>\n",
       "  </tbody>\n",
       "</table>\n",
       "</div>"
      ],
      "text/plain": [
       "            Phuong Ngay_dang        Gia_m2               Quan  \\\n",
       "0    Xã Vĩnh Lộc A   2021-01  0.000000e+00   Huyện Bình Chánh   \n",
       "1    Xã Vĩnh Lộc A   2021-03  3.557692e+07   Huyện Bình Chánh   \n",
       "2  Xã Phạm Văn Hai   2021-03  3.250000e+07   Huyện Bình Chánh   \n",
       "3     Xã Hưng Long   2021-03  7.666667e+06   Huyện Bình Chánh   \n",
       "4   Xã Tân Quý Tây   2021-04  1.009259e+07   Huyện Bình Chánh   \n",
       "\n",
       "               Thanh_pho  \n",
       "0  Thành phố Hồ Chí Minh  \n",
       "1  Thành phố Hồ Chí Minh  \n",
       "2  Thành phố Hồ Chí Minh  \n",
       "3  Thành phố Hồ Chí Minh  \n",
       "4  Thành phố Hồ Chí Minh  "
      ]
     },
     "execution_count": 50,
     "metadata": {},
     "output_type": "execute_result"
    }
   ],
   "source": [
    "res.head()"
   ]
  },
  {
   "cell_type": "code",
   "execution_count": 51,
   "id": "02e863cd",
   "metadata": {},
   "outputs": [
    {
     "name": "stderr",
     "output_type": "stream",
     "text": [
      "/tmp/ipykernel_20623/2672745266.py:1: FutureWarning: DataFrame.applymap has been deprecated. Use DataFrame.map instead.\n",
      "  res = res.applymap(lambda x : x.strip() if isinstance(x, str) else x)\n"
     ]
    }
   ],
   "source": [
    "res = res.applymap(lambda x : x.strip() if isinstance(x, str) else x)"
   ]
  },
  {
   "cell_type": "code",
   "execution_count": 52,
   "id": "919ea4bb",
   "metadata": {},
   "outputs": [],
   "source": [
    "result = {}\n",
    "for _, row in res.iterrows():\n",
    "    tp = row[\"Thanh_pho\"]\n",
    "    q = row[\"Quan\"]\n",
    "    p = row[\"Phuong\"]\n",
    "    d = row[\"Ngay_dang\"]\n",
    "    g = row[\"Gia_m2\"]\n",
    "    \n",
    "    result.setdefault(tp, {}).setdefault(q, {}).setdefault(p, {})[str(d)] = g\n",
    "\n",
    "import json\n",
    "js_str = json.dumps(result, ensure_ascii=False, indent=4)\n",
    "with open('data/huyen-binh-chanh/data_clear/mua-duong-noi-bo-gia-m2.json', 'w', encoding='utf-8') as f:\n",
    "    f.write(js_str)"
   ]
  },
  {
   "cell_type": "code",
   "execution_count": null,
   "id": "3c3f3fea",
   "metadata": {},
   "outputs": [],
   "source": []
  }
 ],
 "metadata": {
  "kernelspec": {
   "display_name": "revo",
   "language": "python",
   "name": "python3"
  },
  "language_info": {
   "codemirror_mode": {
    "name": "ipython",
    "version": 3
   },
   "file_extension": ".py",
   "mimetype": "text/x-python",
   "name": "python",
   "nbconvert_exporter": "python",
   "pygments_lexer": "ipython3",
   "version": "3.10.0"
  }
 },
 "nbformat": 4,
 "nbformat_minor": 5
}
