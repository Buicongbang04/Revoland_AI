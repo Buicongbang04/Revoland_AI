{
 "cells": [
  {
   "cell_type": "code",
   "execution_count": 1,
   "id": "57cb9d2f",
   "metadata": {},
   "outputs": [],
   "source": [
    "import pandas as pd\n",
    "import numpy as np\n",
    "import matplotlib.pyplot as plt"
   ]
  },
  {
   "cell_type": "code",
   "execution_count": 2,
   "id": "e8fa7017",
   "metadata": {},
   "outputs": [],
   "source": [
    "df = pd.read_csv('q1_result.csv')"
   ]
  },
  {
   "cell_type": "code",
   "execution_count": 3,
   "id": "ac4a63a3",
   "metadata": {},
   "outputs": [
    {
     "data": {
      "text/html": [
       "<div>\n",
       "<style scoped>\n",
       "    .dataframe tbody tr th:only-of-type {\n",
       "        vertical-align: middle;\n",
       "    }\n",
       "\n",
       "    .dataframe tbody tr th {\n",
       "        vertical-align: top;\n",
       "    }\n",
       "\n",
       "    .dataframe thead th {\n",
       "        text-align: right;\n",
       "    }\n",
       "</style>\n",
       "<table border=\"1\" class=\"dataframe\">\n",
       "  <thead>\n",
       "    <tr style=\"text-align: right;\">\n",
       "      <th></th>\n",
       "      <th>Phuong</th>\n",
       "      <th>Thang</th>\n",
       "      <th>Nam</th>\n",
       "      <th>Gia_1m</th>\n",
       "    </tr>\n",
       "  </thead>\n",
       "  <tbody>\n",
       "    <tr>\n",
       "      <th>0</th>\n",
       "      <td>Phường Bến Nghé</td>\n",
       "      <td>1</td>\n",
       "      <td>2021</td>\n",
       "      <td>7.682917e+08</td>\n",
       "    </tr>\n",
       "    <tr>\n",
       "      <th>1</th>\n",
       "      <td>Phường Bến Nghé</td>\n",
       "      <td>1</td>\n",
       "      <td>2022</td>\n",
       "      <td>4.205095e+08</td>\n",
       "    </tr>\n",
       "    <tr>\n",
       "      <th>2</th>\n",
       "      <td>Phường Bến Nghé</td>\n",
       "      <td>1</td>\n",
       "      <td>2023</td>\n",
       "      <td>9.582620e+08</td>\n",
       "    </tr>\n",
       "    <tr>\n",
       "      <th>3</th>\n",
       "      <td>Phường Bến Nghé</td>\n",
       "      <td>1</td>\n",
       "      <td>2024</td>\n",
       "      <td>6.547570e+08</td>\n",
       "    </tr>\n",
       "    <tr>\n",
       "      <th>4</th>\n",
       "      <td>Phường Bến Nghé</td>\n",
       "      <td>1</td>\n",
       "      <td>2025</td>\n",
       "      <td>1.321299e+09</td>\n",
       "    </tr>\n",
       "  </tbody>\n",
       "</table>\n",
       "</div>"
      ],
      "text/plain": [
       "             Phuong  Thang   Nam        Gia_1m\n",
       "0   Phường Bến Nghé      1  2021  7.682917e+08\n",
       "1   Phường Bến Nghé      1  2022  4.205095e+08\n",
       "2   Phường Bến Nghé      1  2023  9.582620e+08\n",
       "3   Phường Bến Nghé      1  2024  6.547570e+08\n",
       "4   Phường Bến Nghé      1  2025  1.321299e+09"
      ]
     },
     "execution_count": 3,
     "metadata": {},
     "output_type": "execute_result"
    }
   ],
   "source": [
    "df.head()"
   ]
  },
  {
   "cell_type": "code",
   "execution_count": 4,
   "id": "f626dfe0",
   "metadata": {},
   "outputs": [],
   "source": [
    "df.sort_values(by=['Phuong','Nam'], ascending=True, inplace=True)\n",
    "df.reset_index(drop=True, inplace=True)"
   ]
  },
  {
   "cell_type": "code",
   "execution_count": 5,
   "id": "2a87861f",
   "metadata": {},
   "outputs": [],
   "source": [
    "df['Time'] = df['Nam'].astype(str) + '-' + df['Thang'].astype(str).str.zfill(2)"
   ]
  },
  {
   "cell_type": "code",
   "execution_count": 6,
   "id": "ae64c23c",
   "metadata": {},
   "outputs": [],
   "source": [
    "df.drop(columns=['Nam', 'Thang'], inplace=True)"
   ]
  },
  {
   "cell_type": "code",
   "execution_count": 7,
   "id": "9bd4dad8",
   "metadata": {},
   "outputs": [],
   "source": [
    "df.columns = ['Phuong', 'GiaTri', 'Time']\n",
    "df = df[['Phuong', 'Time', 'GiaTri']]"
   ]
  },
  {
   "cell_type": "code",
   "execution_count": 8,
   "id": "d5530c5a",
   "metadata": {},
   "outputs": [
    {
     "data": {
      "text/html": [
       "<div>\n",
       "<style scoped>\n",
       "    .dataframe tbody tr th:only-of-type {\n",
       "        vertical-align: middle;\n",
       "    }\n",
       "\n",
       "    .dataframe tbody tr th {\n",
       "        vertical-align: top;\n",
       "    }\n",
       "\n",
       "    .dataframe thead th {\n",
       "        text-align: right;\n",
       "    }\n",
       "</style>\n",
       "<table border=\"1\" class=\"dataframe\">\n",
       "  <thead>\n",
       "    <tr style=\"text-align: right;\">\n",
       "      <th></th>\n",
       "      <th>Phuong</th>\n",
       "      <th>Time</th>\n",
       "      <th>GiaTri</th>\n",
       "    </tr>\n",
       "  </thead>\n",
       "  <tbody>\n",
       "    <tr>\n",
       "      <th>0</th>\n",
       "      <td>Phường Bến Nghé</td>\n",
       "      <td>2021-01</td>\n",
       "      <td>7.682917e+08</td>\n",
       "    </tr>\n",
       "    <tr>\n",
       "      <th>1</th>\n",
       "      <td>Phường Bến Nghé</td>\n",
       "      <td>2021-02</td>\n",
       "      <td>8.981401e+08</td>\n",
       "    </tr>\n",
       "    <tr>\n",
       "      <th>2</th>\n",
       "      <td>Phường Bến Nghé</td>\n",
       "      <td>2021-03</td>\n",
       "      <td>7.041325e+08</td>\n",
       "    </tr>\n",
       "    <tr>\n",
       "      <th>3</th>\n",
       "      <td>Phường Bến Nghé</td>\n",
       "      <td>2021-04</td>\n",
       "      <td>6.858593e+08</td>\n",
       "    </tr>\n",
       "    <tr>\n",
       "      <th>4</th>\n",
       "      <td>Phường Bến Nghé</td>\n",
       "      <td>2021-05</td>\n",
       "      <td>7.010328e+08</td>\n",
       "    </tr>\n",
       "  </tbody>\n",
       "</table>\n",
       "</div>"
      ],
      "text/plain": [
       "             Phuong     Time        GiaTri\n",
       "0   Phường Bến Nghé  2021-01  7.682917e+08\n",
       "1   Phường Bến Nghé  2021-02  8.981401e+08\n",
       "2   Phường Bến Nghé  2021-03  7.041325e+08\n",
       "3   Phường Bến Nghé  2021-04  6.858593e+08\n",
       "4   Phường Bến Nghé  2021-05  7.010328e+08"
      ]
     },
     "execution_count": 8,
     "metadata": {},
     "output_type": "execute_result"
    }
   ],
   "source": [
    "df.head()"
   ]
  },
  {
   "cell_type": "markdown",
   "id": "1a069b3e",
   "metadata": {},
   "source": [
    "# Chuẩn hóa"
   ]
  },
  {
   "cell_type": "code",
   "execution_count": 9,
   "id": "82b36473",
   "metadata": {},
   "outputs": [],
   "source": [
    "df.Time = pd.to_datetime(df.Time)"
   ]
  },
  {
   "cell_type": "code",
   "execution_count": 10,
   "id": "03edfb54",
   "metadata": {},
   "outputs": [],
   "source": [
    "df[\"year\"] = df[\"Time\"].dt.year\n",
    "df[\"month\"] = df[\"Time\"].dt.month\n",
    "df[\"quarter\"] = df[\"Time\"].dt.quarter"
   ]
  },
  {
   "cell_type": "code",
   "execution_count": 11,
   "id": "8284f90f",
   "metadata": {},
   "outputs": [],
   "source": [
    "df[\"month_sin\"] = np.sin(2 * np.pi * df[\"month\"]/12)\n",
    "df[\"month_cos\"] = np.cos(2 * np.pi * df[\"month\"]/12)"
   ]
  },
  {
   "cell_type": "code",
   "execution_count": 12,
   "id": "42595ed7",
   "metadata": {},
   "outputs": [],
   "source": [
    "# df = pd.get_dummies(df, columns=[\"Phuong\"])"
   ]
  },
  {
   "cell_type": "code",
   "execution_count": 13,
   "id": "9440290f",
   "metadata": {},
   "outputs": [],
   "source": [
    "df[\"GiaTri_log\"] = np.log1p(df[\"GiaTri\"])"
   ]
  },
  {
   "cell_type": "code",
   "execution_count": 14,
   "id": "33101026",
   "metadata": {},
   "outputs": [],
   "source": [
    "df = df.sort_values([\"Phuong\", \"Time\"]).reset_index(drop=True)"
   ]
  },
  {
   "cell_type": "code",
   "execution_count": 15,
   "id": "1912b68f",
   "metadata": {},
   "outputs": [],
   "source": [
    "df = df[['Time', 'Phuong', 'year', 'month', 'quarter', 'month_sin', 'month_cos', 'GiaTri_log', 'GiaTri']]"
   ]
  },
  {
   "cell_type": "code",
   "execution_count": null,
   "id": "0602d5db",
   "metadata": {},
   "outputs": [],
   "source": [
    "# giá trị của tháng trước, 2 tháng trước\n",
    "for lag in [1, 2, 3]:\n",
    "    df[f\"GiaTri_log_lag{lag}\"] = df.groupby(\"Phuong\")[\"GiaTri_log\"].shift(lag)"
   ]
  },
  {
   "cell_type": "code",
   "execution_count": null,
   "id": "410fd4ee",
   "metadata": {},
   "outputs": [],
   "source": [
    "# trung bình 3 tháng, 6 tháng gần nhất)\n",
    "df[\"GiaTri_log_roll3\"] = df.groupby(\"Phuong\")[\"GiaTri_log\"].shift(1).rolling(window=3).mean()\n",
    "df[\"GiaTri_log_roll6\"] = df.groupby(\"Phuong\")[\"GiaTri_log\"].shift(1).rolling(window=6).mean()\n",
    "df = df.dropna().reset_index(drop=True)"
   ]
  },
  {
   "cell_type": "code",
   "execution_count": 18,
   "id": "ccffc473",
   "metadata": {},
   "outputs": [
    {
     "data": {
      "text/html": [
       "<div>\n",
       "<style scoped>\n",
       "    .dataframe tbody tr th:only-of-type {\n",
       "        vertical-align: middle;\n",
       "    }\n",
       "\n",
       "    .dataframe tbody tr th {\n",
       "        vertical-align: top;\n",
       "    }\n",
       "\n",
       "    .dataframe thead th {\n",
       "        text-align: right;\n",
       "    }\n",
       "</style>\n",
       "<table border=\"1\" class=\"dataframe\">\n",
       "  <thead>\n",
       "    <tr style=\"text-align: right;\">\n",
       "      <th></th>\n",
       "      <th>Time</th>\n",
       "      <th>Phuong</th>\n",
       "      <th>year</th>\n",
       "      <th>month</th>\n",
       "      <th>quarter</th>\n",
       "      <th>month_sin</th>\n",
       "      <th>month_cos</th>\n",
       "      <th>GiaTri_log</th>\n",
       "      <th>GiaTri</th>\n",
       "      <th>GiaTri_log_lag1</th>\n",
       "      <th>GiaTri_log_lag2</th>\n",
       "      <th>GiaTri_log_lag3</th>\n",
       "      <th>GiaTri_log_roll3</th>\n",
       "      <th>GiaTri_log_roll6</th>\n",
       "    </tr>\n",
       "  </thead>\n",
       "  <tbody>\n",
       "    <tr>\n",
       "      <th>0</th>\n",
       "      <td>2021-07-01</td>\n",
       "      <td>Phường Bến Nghé</td>\n",
       "      <td>2021</td>\n",
       "      <td>7</td>\n",
       "      <td>3</td>\n",
       "      <td>-5.000000e-01</td>\n",
       "      <td>-8.660254e-01</td>\n",
       "      <td>20.454367</td>\n",
       "      <td>7.642206e+08</td>\n",
       "      <td>20.478504</td>\n",
       "      <td>20.368065</td>\n",
       "      <td>20.346183</td>\n",
       "      <td>20.397584</td>\n",
       "      <td>20.440124</td>\n",
       "    </tr>\n",
       "    <tr>\n",
       "      <th>1</th>\n",
       "      <td>2021-08-01</td>\n",
       "      <td>Phường Bến Nghé</td>\n",
       "      <td>2021</td>\n",
       "      <td>8</td>\n",
       "      <td>3</td>\n",
       "      <td>-8.660254e-01</td>\n",
       "      <td>-5.000000e-01</td>\n",
       "      <td>20.873333</td>\n",
       "      <td>1.161913e+09</td>\n",
       "      <td>20.454367</td>\n",
       "      <td>20.478504</td>\n",
       "      <td>20.368065</td>\n",
       "      <td>20.433646</td>\n",
       "      <td>20.439239</td>\n",
       "    </tr>\n",
       "    <tr>\n",
       "      <th>2</th>\n",
       "      <td>2021-09-01</td>\n",
       "      <td>Phường Bến Nghé</td>\n",
       "      <td>2021</td>\n",
       "      <td>9</td>\n",
       "      <td>3</td>\n",
       "      <td>-1.000000e+00</td>\n",
       "      <td>-1.836970e-16</td>\n",
       "      <td>20.428921</td>\n",
       "      <td>7.450199e+08</td>\n",
       "      <td>20.873333</td>\n",
       "      <td>20.454367</td>\n",
       "      <td>20.478504</td>\n",
       "      <td>20.602068</td>\n",
       "      <td>20.482155</td>\n",
       "    </tr>\n",
       "    <tr>\n",
       "      <th>3</th>\n",
       "      <td>2021-10-01</td>\n",
       "      <td>Phường Bến Nghé</td>\n",
       "      <td>2021</td>\n",
       "      <td>10</td>\n",
       "      <td>4</td>\n",
       "      <td>-8.660254e-01</td>\n",
       "      <td>5.000000e-01</td>\n",
       "      <td>20.378369</td>\n",
       "      <td>7.082932e+08</td>\n",
       "      <td>20.428921</td>\n",
       "      <td>20.873333</td>\n",
       "      <td>20.454367</td>\n",
       "      <td>20.585541</td>\n",
       "      <td>20.491562</td>\n",
       "    </tr>\n",
       "    <tr>\n",
       "      <th>4</th>\n",
       "      <td>2021-11-01</td>\n",
       "      <td>Phường Bến Nghé</td>\n",
       "      <td>2021</td>\n",
       "      <td>11</td>\n",
       "      <td>4</td>\n",
       "      <td>-5.000000e-01</td>\n",
       "      <td>8.660254e-01</td>\n",
       "      <td>20.588378</td>\n",
       "      <td>8.738137e+08</td>\n",
       "      <td>20.378369</td>\n",
       "      <td>20.428921</td>\n",
       "      <td>20.873333</td>\n",
       "      <td>20.560208</td>\n",
       "      <td>20.496927</td>\n",
       "    </tr>\n",
       "    <tr>\n",
       "      <th>5</th>\n",
       "      <td>2021-12-01</td>\n",
       "      <td>Phường Bến Nghé</td>\n",
       "      <td>2021</td>\n",
       "      <td>12</td>\n",
       "      <td>4</td>\n",
       "      <td>-2.449294e-16</td>\n",
       "      <td>1.000000e+00</td>\n",
       "      <td>20.451922</td>\n",
       "      <td>7.623546e+08</td>\n",
       "      <td>20.588378</td>\n",
       "      <td>20.378369</td>\n",
       "      <td>20.428921</td>\n",
       "      <td>20.465223</td>\n",
       "      <td>20.533645</td>\n",
       "    </tr>\n",
       "    <tr>\n",
       "      <th>6</th>\n",
       "      <td>2022-01-01</td>\n",
       "      <td>Phường Bến Nghé</td>\n",
       "      <td>2022</td>\n",
       "      <td>1</td>\n",
       "      <td>1</td>\n",
       "      <td>5.000000e-01</td>\n",
       "      <td>8.660254e-01</td>\n",
       "      <td>19.856978</td>\n",
       "      <td>4.205095e+08</td>\n",
       "      <td>20.451922</td>\n",
       "      <td>20.588378</td>\n",
       "      <td>20.378369</td>\n",
       "      <td>20.472890</td>\n",
       "      <td>20.529215</td>\n",
       "    </tr>\n",
       "    <tr>\n",
       "      <th>7</th>\n",
       "      <td>2022-02-01</td>\n",
       "      <td>Phường Bến Nghé</td>\n",
       "      <td>2022</td>\n",
       "      <td>2</td>\n",
       "      <td>1</td>\n",
       "      <td>8.660254e-01</td>\n",
       "      <td>5.000000e-01</td>\n",
       "      <td>20.743160</td>\n",
       "      <td>1.020093e+09</td>\n",
       "      <td>19.856978</td>\n",
       "      <td>20.451922</td>\n",
       "      <td>20.588378</td>\n",
       "      <td>20.299093</td>\n",
       "      <td>20.429650</td>\n",
       "    </tr>\n",
       "    <tr>\n",
       "      <th>8</th>\n",
       "      <td>2022-03-01</td>\n",
       "      <td>Phường Bến Nghé</td>\n",
       "      <td>2022</td>\n",
       "      <td>3</td>\n",
       "      <td>1</td>\n",
       "      <td>1.000000e+00</td>\n",
       "      <td>6.123234e-17</td>\n",
       "      <td>20.244688</td>\n",
       "      <td>6.196642e+08</td>\n",
       "      <td>20.743160</td>\n",
       "      <td>19.856978</td>\n",
       "      <td>20.451922</td>\n",
       "      <td>20.350687</td>\n",
       "      <td>20.407955</td>\n",
       "    </tr>\n",
       "    <tr>\n",
       "      <th>9</th>\n",
       "      <td>2022-04-01</td>\n",
       "      <td>Phường Bến Nghé</td>\n",
       "      <td>2022</td>\n",
       "      <td>4</td>\n",
       "      <td>2</td>\n",
       "      <td>8.660254e-01</td>\n",
       "      <td>-5.000000e-01</td>\n",
       "      <td>20.480911</td>\n",
       "      <td>7.847780e+08</td>\n",
       "      <td>20.244688</td>\n",
       "      <td>20.743160</td>\n",
       "      <td>19.856978</td>\n",
       "      <td>20.281608</td>\n",
       "      <td>20.377249</td>\n",
       "    </tr>\n",
       "  </tbody>\n",
       "</table>\n",
       "</div>"
      ],
      "text/plain": [
       "        Time            Phuong  year  month  quarter     month_sin  \\\n",
       "0 2021-07-01   Phường Bến Nghé  2021      7        3 -5.000000e-01   \n",
       "1 2021-08-01   Phường Bến Nghé  2021      8        3 -8.660254e-01   \n",
       "2 2021-09-01   Phường Bến Nghé  2021      9        3 -1.000000e+00   \n",
       "3 2021-10-01   Phường Bến Nghé  2021     10        4 -8.660254e-01   \n",
       "4 2021-11-01   Phường Bến Nghé  2021     11        4 -5.000000e-01   \n",
       "5 2021-12-01   Phường Bến Nghé  2021     12        4 -2.449294e-16   \n",
       "6 2022-01-01   Phường Bến Nghé  2022      1        1  5.000000e-01   \n",
       "7 2022-02-01   Phường Bến Nghé  2022      2        1  8.660254e-01   \n",
       "8 2022-03-01   Phường Bến Nghé  2022      3        1  1.000000e+00   \n",
       "9 2022-04-01   Phường Bến Nghé  2022      4        2  8.660254e-01   \n",
       "\n",
       "      month_cos  GiaTri_log        GiaTri  GiaTri_log_lag1  GiaTri_log_lag2  \\\n",
       "0 -8.660254e-01   20.454367  7.642206e+08        20.478504        20.368065   \n",
       "1 -5.000000e-01   20.873333  1.161913e+09        20.454367        20.478504   \n",
       "2 -1.836970e-16   20.428921  7.450199e+08        20.873333        20.454367   \n",
       "3  5.000000e-01   20.378369  7.082932e+08        20.428921        20.873333   \n",
       "4  8.660254e-01   20.588378  8.738137e+08        20.378369        20.428921   \n",
       "5  1.000000e+00   20.451922  7.623546e+08        20.588378        20.378369   \n",
       "6  8.660254e-01   19.856978  4.205095e+08        20.451922        20.588378   \n",
       "7  5.000000e-01   20.743160  1.020093e+09        19.856978        20.451922   \n",
       "8  6.123234e-17   20.244688  6.196642e+08        20.743160        19.856978   \n",
       "9 -5.000000e-01   20.480911  7.847780e+08        20.244688        20.743160   \n",
       "\n",
       "   GiaTri_log_lag3  GiaTri_log_roll3  GiaTri_log_roll6  \n",
       "0        20.346183         20.397584         20.440124  \n",
       "1        20.368065         20.433646         20.439239  \n",
       "2        20.478504         20.602068         20.482155  \n",
       "3        20.454367         20.585541         20.491562  \n",
       "4        20.873333         20.560208         20.496927  \n",
       "5        20.428921         20.465223         20.533645  \n",
       "6        20.378369         20.472890         20.529215  \n",
       "7        20.588378         20.299093         20.429650  \n",
       "8        20.451922         20.350687         20.407955  \n",
       "9        19.856978         20.281608         20.377249  "
      ]
     },
     "execution_count": 18,
     "metadata": {},
     "output_type": "execute_result"
    }
   ],
   "source": [
    "df.head(10)"
   ]
  },
  {
   "cell_type": "code",
   "execution_count": 20,
   "id": "d2bbb678",
   "metadata": {},
   "outputs": [],
   "source": [
    "df.to_csv('data.csv', index=False)"
   ]
  },
  {
   "cell_type": "markdown",
   "id": "f228e797",
   "metadata": {},
   "source": [
    "# Model"
   ]
  },
  {
   "cell_type": "code",
   "execution_count": 23,
   "id": "856b7ae1",
   "metadata": {},
   "outputs": [],
   "source": [
    "from sklearn.model_selection import train_test_split\n",
    "from sklearn.linear_model import ElasticNet\n",
    "from sklearn.metrics import mean_squared_error, r2_score"
   ]
  },
  {
   "cell_type": "code",
   "execution_count": 22,
   "id": "dadd934e",
   "metadata": {},
   "outputs": [
    {
     "name": "stdout",
     "output_type": "stream",
     "text": [
      "Train shape: (386, 10) (386,)\n",
      "Test shape: (97, 10) (97,)\n"
     ]
    }
   ],
   "source": [
    "features = [\n",
    "    \"year\", \"month\", \"quarter\", \"month_sin\", \"month_cos\",\n",
    "    \"GiaTri_log_lag1\", \"GiaTri_log_lag2\", \"GiaTri_log_lag3\",\n",
    "    \"GiaTri_log_roll3\", \"GiaTri_log_roll6\"\n",
    "]\n",
    "target = \"GiaTri_log\"\n",
    "\n",
    "# Train-test split theo thời gian\n",
    "split_point = int(len(df) * 0.8)\n",
    "train_df = df.iloc[:split_point]\n",
    "test_df = df.iloc[split_point:]\n",
    "\n",
    "\n",
    "X_train, y_train = train_df[features], train_df[target]\n",
    "X_test, y_test = test_df[features], test_df[target]\n",
    "\n",
    "print(\"Train shape:\", X_train.shape, y_train.shape)\n",
    "print(\"Test shape:\", X_test.shape, y_test.shape)"
   ]
  },
  {
   "cell_type": "code",
   "execution_count": 24,
   "id": "f02db0d7",
   "metadata": {},
   "outputs": [
    {
     "name": "stdout",
     "output_type": "stream",
     "text": [
      "ElasticNet RMSE: 0.30151217465657004\n",
      "ElasticNet R2: -0.07333781550881757\n"
     ]
    }
   ],
   "source": [
    "model = ElasticNet(alpha=0.01, l1_ratio=1.0, random_state=42)\n",
    "\n",
    "# Train\n",
    "model.fit(X_train, y_train)\n",
    "\n",
    "# Dự đoán\n",
    "y_pred = model.predict(X_test)\n",
    "\n",
    "# Đánh giá\n",
    "rmse = np.sqrt(mean_squared_error(y_test, y_pred))\n",
    "r2 = r2_score(y_test, y_pred)\n",
    "\n",
    "print(\"ElasticNet RMSE:\", rmse)\n",
    "print(\"ElasticNet R2:\", r2)\n"
   ]
  },
  {
   "cell_type": "markdown",
   "id": "8069eb2b",
   "metadata": {},
   "source": [
    "# Biểu đồ so sánh"
   ]
  },
  {
   "cell_type": "code",
   "execution_count": 35,
   "id": "bcfdd282",
   "metadata": {},
   "outputs": [
    {
     "data": {
      "application/vnd.plotly.v1+json": {
       "config": {
        "plotlyServerURL": "https://plot.ly"
       },
       "data": [
        {
         "mode": "lines+markers",
         "name": "Thực tế",
         "type": "scatter",
         "y": {
          "bdata": "4vKmCJB/M0BwC66IpHUzQHXcdMobqzNAFixnLuZ8M0D0TAc+fK8zQOGSREeZlDNAjTheXZ2rM0AZnCekxZ0zQE0eehcJfjNARhr5SKiQM0C7OVpHCqszQCwtUq4UjzNAmMe9nDqWM0CIbADrVYczQGa6GuBlrTNAyrJOQGCfM0BuzWuHi6EzQKkwHgSZcTNA33noS6+1M0D1XBVIFqkzQMJl/Xg3oDNA6q0SyTRvM0DLQJf8omEzQBi3rmzYfDNAtMgnr4CLM0BkAmSubJs0QFyXNcPNkTNA9RgtT8d6M0D37N0Q+akzQIMtyxneiTNA4xlKl2aRM0Cez6yHrpEzQNWhhPXvjTNAqau8OzGRM0CZBC9qf6YzQPVpvGaDODNAZaS8wqaZM0ADspOsYbEzQAQwlnQmkTNAZl0hId9mM0CfG1c30h80QBJ7BtwzyDNAiBgmZZq2M0BTCH0CB9QzQBrLo1ae5zNALVbhW6buM0CZ7p9VZBQ0QH5vqMxjxzNAu3nsNL1mNECL+J1RsqczQKtYF+emsjNA8WznYtriM0Bu8wAhf9MzQFkpmgmdiDNA3ze+zDABNEAI/gni32gzQP6PuneSzjNA5DgP527cM0CvzwS1gLEzQFFwiYuPmDNAbzjS03u9M0DAipPRRbMzQJapkwqwozNAQeyJOoSxM0BF6lfBzvszQF440rOX0jNAxx8t6HIDNECWztAn8XczQO7TCeWG2jNA5ZKOm9i4M0DxZrsv260zQNbnARNVxzNAkK0M7pRzM0BIYj3/nnszQAq4PhTU2TNA3prbOymoM0AG9mKUa7YzQDV/u3pQxzNADsZGCsnJM0AZVUIqSOMzQHh7vBPMtTNALEoqPWoONEBF58HoBjQ0QDvN7TWfRzRANj8rjBv6M0Bqwc2ubA80QA1vY5mp4TNAEf31u4G/M0BpFkeoi/gzQIsG2txx+TFAqncnoy78M0Cd907Xpwo0QKOHLBM5wDNAIyC/0bbyM0Cg4jJaR/szQK0R3qFmDzRALM0n9w8ANEA=",
          "dtype": "f8"
         }
        },
        {
         "mode": "lines+markers",
         "name": "Dự đoán",
         "type": "scatter",
         "y": {
          "bdata": "amosUHewM0BO9BOvWKozQApDMPFdpjNAqn9R/IKaM0D4KXLgK50zQF5ZFFjsmzNAMnzfg3OqM0BKd3E2kKszQAgDUGm1sDNAuvZcwS+uM0DsiCPFHqwzQIqy5MQFszNAdhnYJ1K7M0AQUF7nk7UzQKacRJ9UszNAKtjLw2CnM0DAfqYVn60zQJLAYYegqjNAuCMRJO6pM0AYNIq8fawzQLTAwqTnuTNALC13t/i8M0BqNBdFMLEzQEy7XR+woTNA5gO73EKrM0AMo+a3l68zQND8djC96DNA5jkEg37kM0AqFLTsz68zQFLFPkzytjNAWvzxi9zDM0C2AC0APb8zQEYxHXmtrjNA7KWzIoe1M0AoqJ05y7YzQBCxyXElujNAWoNnluWwM0AAPHMNM6ozQLJgbdYJwjNAjmUXkJewM0Bya0WhuaEzQG5NAPTBuzNAnsRFndrjM0Akv1wGydIzQI4wWRPp1TNAxlPtSajrM0Aivvr7jfkzQH4xxxzXvDNA4sTPWjTDM0CIfzPsIuozQMSv1Z6K9DNAREfzC3PTM0Ai//pL998zQCrk9uLA1TNAEmo/oCTEM0BWSea76L8zQKIAPwDLxDNAoq1zig64M0BWGSPGy8wzQCqU+Ie0zjNAaI/pVi/EM0DAhsNJBsAzQOKuHr420jNALn306DLLM0A+yoy6RMczQNS3Fb6hxzNA3LNos9/TM0Ak9ZQ9o9czQKaqd9f50DNA+vKODQ7IM0AARpdXgdYzQF5ja+Hk0DNA6J/Q7ZrRM0BmLlOZ+8AzQHY63hsXujNAjE6w7LTIM0BmP5Y9eNIzQEwegUz8uTNAPm+z/Am/M0CumAZbbcgzQGRLQosQ2zNA1iDEVhnXM0BYKgXQyuEzQLTp3D/oBzRABtE7wXUaNEDWAEmGoRY0QLSaOuiDFTRAQGg+tCMWNEDAhx01XQM0QHYPldoq7zNANlQt0Z+KM0As0syD4HEzQIC/IpGK3DNAKpvfmqDSM0DcbA/xD88zQK7+r7aT4TNAgCHD8TgKNEA=",
          "dtype": "f8"
         }
        }
       ],
       "layout": {
        "template": {
         "data": {
          "bar": [
           {
            "error_x": {
             "color": "#2a3f5f"
            },
            "error_y": {
             "color": "#2a3f5f"
            },
            "marker": {
             "line": {
              "color": "white",
              "width": 0.5
             },
             "pattern": {
              "fillmode": "overlay",
              "size": 10,
              "solidity": 0.2
             }
            },
            "type": "bar"
           }
          ],
          "barpolar": [
           {
            "marker": {
             "line": {
              "color": "white",
              "width": 0.5
             },
             "pattern": {
              "fillmode": "overlay",
              "size": 10,
              "solidity": 0.2
             }
            },
            "type": "barpolar"
           }
          ],
          "carpet": [
           {
            "aaxis": {
             "endlinecolor": "#2a3f5f",
             "gridcolor": "#C8D4E3",
             "linecolor": "#C8D4E3",
             "minorgridcolor": "#C8D4E3",
             "startlinecolor": "#2a3f5f"
            },
            "baxis": {
             "endlinecolor": "#2a3f5f",
             "gridcolor": "#C8D4E3",
             "linecolor": "#C8D4E3",
             "minorgridcolor": "#C8D4E3",
             "startlinecolor": "#2a3f5f"
            },
            "type": "carpet"
           }
          ],
          "choropleth": [
           {
            "colorbar": {
             "outlinewidth": 0,
             "ticks": ""
            },
            "type": "choropleth"
           }
          ],
          "contour": [
           {
            "colorbar": {
             "outlinewidth": 0,
             "ticks": ""
            },
            "colorscale": [
             [
              0,
              "#0d0887"
             ],
             [
              0.1111111111111111,
              "#46039f"
             ],
             [
              0.2222222222222222,
              "#7201a8"
             ],
             [
              0.3333333333333333,
              "#9c179e"
             ],
             [
              0.4444444444444444,
              "#bd3786"
             ],
             [
              0.5555555555555556,
              "#d8576b"
             ],
             [
              0.6666666666666666,
              "#ed7953"
             ],
             [
              0.7777777777777778,
              "#fb9f3a"
             ],
             [
              0.8888888888888888,
              "#fdca26"
             ],
             [
              1,
              "#f0f921"
             ]
            ],
            "type": "contour"
           }
          ],
          "contourcarpet": [
           {
            "colorbar": {
             "outlinewidth": 0,
             "ticks": ""
            },
            "type": "contourcarpet"
           }
          ],
          "heatmap": [
           {
            "colorbar": {
             "outlinewidth": 0,
             "ticks": ""
            },
            "colorscale": [
             [
              0,
              "#0d0887"
             ],
             [
              0.1111111111111111,
              "#46039f"
             ],
             [
              0.2222222222222222,
              "#7201a8"
             ],
             [
              0.3333333333333333,
              "#9c179e"
             ],
             [
              0.4444444444444444,
              "#bd3786"
             ],
             [
              0.5555555555555556,
              "#d8576b"
             ],
             [
              0.6666666666666666,
              "#ed7953"
             ],
             [
              0.7777777777777778,
              "#fb9f3a"
             ],
             [
              0.8888888888888888,
              "#fdca26"
             ],
             [
              1,
              "#f0f921"
             ]
            ],
            "type": "heatmap"
           }
          ],
          "histogram": [
           {
            "marker": {
             "pattern": {
              "fillmode": "overlay",
              "size": 10,
              "solidity": 0.2
             }
            },
            "type": "histogram"
           }
          ],
          "histogram2d": [
           {
            "colorbar": {
             "outlinewidth": 0,
             "ticks": ""
            },
            "colorscale": [
             [
              0,
              "#0d0887"
             ],
             [
              0.1111111111111111,
              "#46039f"
             ],
             [
              0.2222222222222222,
              "#7201a8"
             ],
             [
              0.3333333333333333,
              "#9c179e"
             ],
             [
              0.4444444444444444,
              "#bd3786"
             ],
             [
              0.5555555555555556,
              "#d8576b"
             ],
             [
              0.6666666666666666,
              "#ed7953"
             ],
             [
              0.7777777777777778,
              "#fb9f3a"
             ],
             [
              0.8888888888888888,
              "#fdca26"
             ],
             [
              1,
              "#f0f921"
             ]
            ],
            "type": "histogram2d"
           }
          ],
          "histogram2dcontour": [
           {
            "colorbar": {
             "outlinewidth": 0,
             "ticks": ""
            },
            "colorscale": [
             [
              0,
              "#0d0887"
             ],
             [
              0.1111111111111111,
              "#46039f"
             ],
             [
              0.2222222222222222,
              "#7201a8"
             ],
             [
              0.3333333333333333,
              "#9c179e"
             ],
             [
              0.4444444444444444,
              "#bd3786"
             ],
             [
              0.5555555555555556,
              "#d8576b"
             ],
             [
              0.6666666666666666,
              "#ed7953"
             ],
             [
              0.7777777777777778,
              "#fb9f3a"
             ],
             [
              0.8888888888888888,
              "#fdca26"
             ],
             [
              1,
              "#f0f921"
             ]
            ],
            "type": "histogram2dcontour"
           }
          ],
          "mesh3d": [
           {
            "colorbar": {
             "outlinewidth": 0,
             "ticks": ""
            },
            "type": "mesh3d"
           }
          ],
          "parcoords": [
           {
            "line": {
             "colorbar": {
              "outlinewidth": 0,
              "ticks": ""
             }
            },
            "type": "parcoords"
           }
          ],
          "pie": [
           {
            "automargin": true,
            "type": "pie"
           }
          ],
          "scatter": [
           {
            "fillpattern": {
             "fillmode": "overlay",
             "size": 10,
             "solidity": 0.2
            },
            "type": "scatter"
           }
          ],
          "scatter3d": [
           {
            "line": {
             "colorbar": {
              "outlinewidth": 0,
              "ticks": ""
             }
            },
            "marker": {
             "colorbar": {
              "outlinewidth": 0,
              "ticks": ""
             }
            },
            "type": "scatter3d"
           }
          ],
          "scattercarpet": [
           {
            "marker": {
             "colorbar": {
              "outlinewidth": 0,
              "ticks": ""
             }
            },
            "type": "scattercarpet"
           }
          ],
          "scattergeo": [
           {
            "marker": {
             "colorbar": {
              "outlinewidth": 0,
              "ticks": ""
             }
            },
            "type": "scattergeo"
           }
          ],
          "scattergl": [
           {
            "marker": {
             "colorbar": {
              "outlinewidth": 0,
              "ticks": ""
             }
            },
            "type": "scattergl"
           }
          ],
          "scattermap": [
           {
            "marker": {
             "colorbar": {
              "outlinewidth": 0,
              "ticks": ""
             }
            },
            "type": "scattermap"
           }
          ],
          "scattermapbox": [
           {
            "marker": {
             "colorbar": {
              "outlinewidth": 0,
              "ticks": ""
             }
            },
            "type": "scattermapbox"
           }
          ],
          "scatterpolar": [
           {
            "marker": {
             "colorbar": {
              "outlinewidth": 0,
              "ticks": ""
             }
            },
            "type": "scatterpolar"
           }
          ],
          "scatterpolargl": [
           {
            "marker": {
             "colorbar": {
              "outlinewidth": 0,
              "ticks": ""
             }
            },
            "type": "scatterpolargl"
           }
          ],
          "scatterternary": [
           {
            "marker": {
             "colorbar": {
              "outlinewidth": 0,
              "ticks": ""
             }
            },
            "type": "scatterternary"
           }
          ],
          "surface": [
           {
            "colorbar": {
             "outlinewidth": 0,
             "ticks": ""
            },
            "colorscale": [
             [
              0,
              "#0d0887"
             ],
             [
              0.1111111111111111,
              "#46039f"
             ],
             [
              0.2222222222222222,
              "#7201a8"
             ],
             [
              0.3333333333333333,
              "#9c179e"
             ],
             [
              0.4444444444444444,
              "#bd3786"
             ],
             [
              0.5555555555555556,
              "#d8576b"
             ],
             [
              0.6666666666666666,
              "#ed7953"
             ],
             [
              0.7777777777777778,
              "#fb9f3a"
             ],
             [
              0.8888888888888888,
              "#fdca26"
             ],
             [
              1,
              "#f0f921"
             ]
            ],
            "type": "surface"
           }
          ],
          "table": [
           {
            "cells": {
             "fill": {
              "color": "#EBF0F8"
             },
             "line": {
              "color": "white"
             }
            },
            "header": {
             "fill": {
              "color": "#C8D4E3"
             },
             "line": {
              "color": "white"
             }
            },
            "type": "table"
           }
          ]
         },
         "layout": {
          "annotationdefaults": {
           "arrowcolor": "#2a3f5f",
           "arrowhead": 0,
           "arrowwidth": 1
          },
          "autotypenumbers": "strict",
          "coloraxis": {
           "colorbar": {
            "outlinewidth": 0,
            "ticks": ""
           }
          },
          "colorscale": {
           "diverging": [
            [
             0,
             "#8e0152"
            ],
            [
             0.1,
             "#c51b7d"
            ],
            [
             0.2,
             "#de77ae"
            ],
            [
             0.3,
             "#f1b6da"
            ],
            [
             0.4,
             "#fde0ef"
            ],
            [
             0.5,
             "#f7f7f7"
            ],
            [
             0.6,
             "#e6f5d0"
            ],
            [
             0.7,
             "#b8e186"
            ],
            [
             0.8,
             "#7fbc41"
            ],
            [
             0.9,
             "#4d9221"
            ],
            [
             1,
             "#276419"
            ]
           ],
           "sequential": [
            [
             0,
             "#0d0887"
            ],
            [
             0.1111111111111111,
             "#46039f"
            ],
            [
             0.2222222222222222,
             "#7201a8"
            ],
            [
             0.3333333333333333,
             "#9c179e"
            ],
            [
             0.4444444444444444,
             "#bd3786"
            ],
            [
             0.5555555555555556,
             "#d8576b"
            ],
            [
             0.6666666666666666,
             "#ed7953"
            ],
            [
             0.7777777777777778,
             "#fb9f3a"
            ],
            [
             0.8888888888888888,
             "#fdca26"
            ],
            [
             1,
             "#f0f921"
            ]
           ],
           "sequentialminus": [
            [
             0,
             "#0d0887"
            ],
            [
             0.1111111111111111,
             "#46039f"
            ],
            [
             0.2222222222222222,
             "#7201a8"
            ],
            [
             0.3333333333333333,
             "#9c179e"
            ],
            [
             0.4444444444444444,
             "#bd3786"
            ],
            [
             0.5555555555555556,
             "#d8576b"
            ],
            [
             0.6666666666666666,
             "#ed7953"
            ],
            [
             0.7777777777777778,
             "#fb9f3a"
            ],
            [
             0.8888888888888888,
             "#fdca26"
            ],
            [
             1,
             "#f0f921"
            ]
           ]
          },
          "colorway": [
           "#636efa",
           "#EF553B",
           "#00cc96",
           "#ab63fa",
           "#FFA15A",
           "#19d3f3",
           "#FF6692",
           "#B6E880",
           "#FF97FF",
           "#FECB52"
          ],
          "font": {
           "color": "#2a3f5f"
          },
          "geo": {
           "bgcolor": "white",
           "lakecolor": "white",
           "landcolor": "white",
           "showlakes": true,
           "showland": true,
           "subunitcolor": "#C8D4E3"
          },
          "hoverlabel": {
           "align": "left"
          },
          "hovermode": "closest",
          "mapbox": {
           "style": "light"
          },
          "paper_bgcolor": "white",
          "plot_bgcolor": "white",
          "polar": {
           "angularaxis": {
            "gridcolor": "#EBF0F8",
            "linecolor": "#EBF0F8",
            "ticks": ""
           },
           "bgcolor": "white",
           "radialaxis": {
            "gridcolor": "#EBF0F8",
            "linecolor": "#EBF0F8",
            "ticks": ""
           }
          },
          "scene": {
           "xaxis": {
            "backgroundcolor": "white",
            "gridcolor": "#DFE8F3",
            "gridwidth": 2,
            "linecolor": "#EBF0F8",
            "showbackground": true,
            "ticks": "",
            "zerolinecolor": "#EBF0F8"
           },
           "yaxis": {
            "backgroundcolor": "white",
            "gridcolor": "#DFE8F3",
            "gridwidth": 2,
            "linecolor": "#EBF0F8",
            "showbackground": true,
            "ticks": "",
            "zerolinecolor": "#EBF0F8"
           },
           "zaxis": {
            "backgroundcolor": "white",
            "gridcolor": "#DFE8F3",
            "gridwidth": 2,
            "linecolor": "#EBF0F8",
            "showbackground": true,
            "ticks": "",
            "zerolinecolor": "#EBF0F8"
           }
          },
          "shapedefaults": {
           "line": {
            "color": "#2a3f5f"
           }
          },
          "ternary": {
           "aaxis": {
            "gridcolor": "#DFE8F3",
            "linecolor": "#A2B1C6",
            "ticks": ""
           },
           "baxis": {
            "gridcolor": "#DFE8F3",
            "linecolor": "#A2B1C6",
            "ticks": ""
           },
           "bgcolor": "white",
           "caxis": {
            "gridcolor": "#DFE8F3",
            "linecolor": "#A2B1C6",
            "ticks": ""
           }
          },
          "title": {
           "x": 0.05
          },
          "xaxis": {
           "automargin": true,
           "gridcolor": "#EBF0F8",
           "linecolor": "#EBF0F8",
           "ticks": "",
           "title": {
            "standoff": 15
           },
           "zerolinecolor": "#EBF0F8",
           "zerolinewidth": 2
          },
          "yaxis": {
           "automargin": true,
           "gridcolor": "#EBF0F8",
           "linecolor": "#EBF0F8",
           "ticks": "",
           "title": {
            "standoff": 15
           },
           "zerolinecolor": "#EBF0F8",
           "zerolinewidth": 2
          }
         }
        },
        "title": {
         "text": "So sánh giá trị thực tế và dự đoán (ElasticNet)"
        },
        "xaxis": {
         "title": {
          "text": "Thời gian"
         }
        },
        "yaxis": {
         "title": {
          "text": "Giá trị"
         }
        }
       }
      }
     },
     "metadata": {},
     "output_type": "display_data"
    }
   ],
   "source": [
    "import plotly.graph_objects as go\n",
    "\n",
    "# Nếu y_test, y_pred đang là dạng log, nhớ inverse_transform trước\n",
    "y_true = y_test.values.flatten()\n",
    "y_pred_vals = y_pred.flatten()\n",
    "\n",
    "fig = go.Figure()\n",
    "\n",
    "# Giá trị thực tế\n",
    "fig.add_trace(go.Scatter(\n",
    "    y=y_true,\n",
    "    # x=X_test['year'].astype(str) + '-' + X_test['month'].astype(str).str.zfill(2),\n",
    "    mode=\"lines+markers\",\n",
    "    name=\"Thực tế\"\n",
    "))\n",
    "\n",
    "# Giá trị dự đoán\n",
    "fig.add_trace(go.Scatter(\n",
    "    y=y_pred_vals,\n",
    "    # x=X_test['year'].astype(str) + '-' + X_test['month'].astype(str).str.zfill(2),\n",
    "    mode=\"lines+markers\",\n",
    "    name=\"Dự đoán\"\n",
    "))\n",
    "\n",
    "fig.update_layout(\n",
    "    title=\"So sánh giá trị thực tế và dự đoán (ElasticNet)\",\n",
    "    xaxis_title=\"Thời gian\",\n",
    "    yaxis_title=\"Giá trị\",\n",
    "    template=\"plotly_white\"\n",
    ")\n",
    "\n",
    "fig.show()\n"
   ]
  },
  {
   "cell_type": "code",
   "execution_count": null,
   "id": "eeedf9e0",
   "metadata": {},
   "outputs": [
    {
     "name": "stderr",
     "output_type": "stream",
     "text": [
      "/home/bangbui/miniforge3/envs/work/lib/python3.10/site-packages/sklearn/utils/validation.py:2749: UserWarning:\n",
      "\n",
      "X does not have valid feature names, but ElasticNet was fitted with feature names\n",
      "\n"
     ]
    },
    {
     "data": {
      "application/vnd.plotly.v1+json": {
       "config": {
        "plotlyServerURL": "https://plot.ly"
       },
       "data": [
        {
         "mode": "lines+markers",
         "name": "Thực tế",
         "type": "scatter",
         "y": {
          "bdata": "4vKmCJB/M0BwC66IpHUzQHXcdMobqzNAFixnLuZ8M0D0TAc+fK8zQOGSREeZlDNAjTheXZ2rM0AZnCekxZ0zQE0eehcJfjNARhr5SKiQM0C7OVpHCqszQCwtUq4UjzNAmMe9nDqWM0CIbADrVYczQGa6GuBlrTNAyrJOQGCfM0BuzWuHi6EzQKkwHgSZcTNA33noS6+1M0D1XBVIFqkzQMJl/Xg3oDNA6q0SyTRvM0DLQJf8omEzQBi3rmzYfDNAtMgnr4CLM0BkAmSubJs0QFyXNcPNkTNA9RgtT8d6M0D37N0Q+akzQIMtyxneiTNA4xlKl2aRM0Cez6yHrpEzQNWhhPXvjTNAqau8OzGRM0CZBC9qf6YzQPVpvGaDODNAZaS8wqaZM0ADspOsYbEzQAQwlnQmkTNAZl0hId9mM0CfG1c30h80QBJ7BtwzyDNAiBgmZZq2M0BTCH0CB9QzQBrLo1ae5zNALVbhW6buM0CZ7p9VZBQ0QH5vqMxjxzNAu3nsNL1mNECL+J1RsqczQKtYF+emsjNA8WznYtriM0Bu8wAhf9MzQFkpmgmdiDNA3ze+zDABNEAI/gni32gzQP6PuneSzjNA5DgP527cM0CvzwS1gLEzQFFwiYuPmDNAbzjS03u9M0DAipPRRbMzQJapkwqwozNAQeyJOoSxM0BF6lfBzvszQF440rOX0jNAxx8t6HIDNECWztAn8XczQO7TCeWG2jNA5ZKOm9i4M0DxZrsv260zQNbnARNVxzNAkK0M7pRzM0BIYj3/nnszQAq4PhTU2TNA3prbOymoM0AG9mKUa7YzQDV/u3pQxzNADsZGCsnJM0AZVUIqSOMzQHh7vBPMtTNALEoqPWoONEBF58HoBjQ0QDvN7TWfRzRANj8rjBv6M0Bqwc2ubA80QA1vY5mp4TNAEf31u4G/M0BpFkeoi/gzQIsG2txx+TFAqncnoy78M0Cd907Xpwo0QKOHLBM5wDNAIyC/0bbyM0Cg4jJaR/szQK0R3qFmDzRALM0n9w8ANEA=",
          "dtype": "f8"
         }
        },
        {
         "mode": "lines+markers",
         "name": "Dự đoán + Tương lai",
         "type": "scatter",
         "y": {
          "bdata": "amosUHewM0BO9BOvWKozQApDMPFdpjNAqn9R/IKaM0D4KXLgK50zQF5ZFFjsmzNAMnzfg3OqM0BKd3E2kKszQAgDUGm1sDNAuvZcwS+uM0DsiCPFHqwzQIqy5MQFszNAdhnYJ1K7M0AQUF7nk7UzQKacRJ9UszNAKtjLw2CnM0DAfqYVn60zQJLAYYegqjNAuCMRJO6pM0AYNIq8fawzQLTAwqTnuTNALC13t/i8M0BqNBdFMLEzQEy7XR+woTNA5gO73EKrM0AMo+a3l68zQND8djC96DNA5jkEg37kM0AqFLTsz68zQFLFPkzytjNAWvzxi9zDM0C2AC0APb8zQEYxHXmtrjNA7KWzIoe1M0AoqJ05y7YzQBCxyXElujNAWoNnluWwM0AAPHMNM6ozQLJgbdYJwjNAjmUXkJewM0Bya0WhuaEzQG5NAPTBuzNAnsRFndrjM0Akv1wGydIzQI4wWRPp1TNAxlPtSajrM0Aivvr7jfkzQH4xxxzXvDNA4sTPWjTDM0CIfzPsIuozQMSv1Z6K9DNAREfzC3PTM0Ai//pL998zQCrk9uLA1TNAEmo/oCTEM0BWSea76L8zQKIAPwDLxDNAoq1zig64M0BWGSPGy8wzQCqU+Ie0zjNAaI/pVi/EM0DAhsNJBsAzQOKuHr420jNALn306DLLM0A+yoy6RMczQNS3Fb6hxzNA3LNos9/TM0Ak9ZQ9o9czQKaqd9f50DNA+vKODQ7IM0AARpdXgdYzQF5ja+Hk0DNA6J/Q7ZrRM0BmLlOZ+8AzQHY63hsXujNAjE6w7LTIM0BmP5Y9eNIzQEwegUz8uTNAPm+z/Am/M0CumAZbbcgzQGRLQosQ2zNA1iDEVhnXM0BYKgXQyuEzQLTp3D/oBzRABtE7wXUaNEDWAEmGoRY0QLSaOuiDFTRAQGg+tCMWNEDAhx01XQM0QHYPldoq7zNANlQt0Z+KM0As0syD4HEzQIC/IpGK3DNAKpvfmqDSM0DcbA/xD88zQK7+r7aT4TNAgCHD8TgKNECAIcPxOAo0QA==",
          "dtype": "f8"
         }
        }
       ],
       "layout": {
        "template": {
         "data": {
          "bar": [
           {
            "error_x": {
             "color": "#2a3f5f"
            },
            "error_y": {
             "color": "#2a3f5f"
            },
            "marker": {
             "line": {
              "color": "white",
              "width": 0.5
             },
             "pattern": {
              "fillmode": "overlay",
              "size": 10,
              "solidity": 0.2
             }
            },
            "type": "bar"
           }
          ],
          "barpolar": [
           {
            "marker": {
             "line": {
              "color": "white",
              "width": 0.5
             },
             "pattern": {
              "fillmode": "overlay",
              "size": 10,
              "solidity": 0.2
             }
            },
            "type": "barpolar"
           }
          ],
          "carpet": [
           {
            "aaxis": {
             "endlinecolor": "#2a3f5f",
             "gridcolor": "#C8D4E3",
             "linecolor": "#C8D4E3",
             "minorgridcolor": "#C8D4E3",
             "startlinecolor": "#2a3f5f"
            },
            "baxis": {
             "endlinecolor": "#2a3f5f",
             "gridcolor": "#C8D4E3",
             "linecolor": "#C8D4E3",
             "minorgridcolor": "#C8D4E3",
             "startlinecolor": "#2a3f5f"
            },
            "type": "carpet"
           }
          ],
          "choropleth": [
           {
            "colorbar": {
             "outlinewidth": 0,
             "ticks": ""
            },
            "type": "choropleth"
           }
          ],
          "contour": [
           {
            "colorbar": {
             "outlinewidth": 0,
             "ticks": ""
            },
            "colorscale": [
             [
              0,
              "#0d0887"
             ],
             [
              0.1111111111111111,
              "#46039f"
             ],
             [
              0.2222222222222222,
              "#7201a8"
             ],
             [
              0.3333333333333333,
              "#9c179e"
             ],
             [
              0.4444444444444444,
              "#bd3786"
             ],
             [
              0.5555555555555556,
              "#d8576b"
             ],
             [
              0.6666666666666666,
              "#ed7953"
             ],
             [
              0.7777777777777778,
              "#fb9f3a"
             ],
             [
              0.8888888888888888,
              "#fdca26"
             ],
             [
              1,
              "#f0f921"
             ]
            ],
            "type": "contour"
           }
          ],
          "contourcarpet": [
           {
            "colorbar": {
             "outlinewidth": 0,
             "ticks": ""
            },
            "type": "contourcarpet"
           }
          ],
          "heatmap": [
           {
            "colorbar": {
             "outlinewidth": 0,
             "ticks": ""
            },
            "colorscale": [
             [
              0,
              "#0d0887"
             ],
             [
              0.1111111111111111,
              "#46039f"
             ],
             [
              0.2222222222222222,
              "#7201a8"
             ],
             [
              0.3333333333333333,
              "#9c179e"
             ],
             [
              0.4444444444444444,
              "#bd3786"
             ],
             [
              0.5555555555555556,
              "#d8576b"
             ],
             [
              0.6666666666666666,
              "#ed7953"
             ],
             [
              0.7777777777777778,
              "#fb9f3a"
             ],
             [
              0.8888888888888888,
              "#fdca26"
             ],
             [
              1,
              "#f0f921"
             ]
            ],
            "type": "heatmap"
           }
          ],
          "histogram": [
           {
            "marker": {
             "pattern": {
              "fillmode": "overlay",
              "size": 10,
              "solidity": 0.2
             }
            },
            "type": "histogram"
           }
          ],
          "histogram2d": [
           {
            "colorbar": {
             "outlinewidth": 0,
             "ticks": ""
            },
            "colorscale": [
             [
              0,
              "#0d0887"
             ],
             [
              0.1111111111111111,
              "#46039f"
             ],
             [
              0.2222222222222222,
              "#7201a8"
             ],
             [
              0.3333333333333333,
              "#9c179e"
             ],
             [
              0.4444444444444444,
              "#bd3786"
             ],
             [
              0.5555555555555556,
              "#d8576b"
             ],
             [
              0.6666666666666666,
              "#ed7953"
             ],
             [
              0.7777777777777778,
              "#fb9f3a"
             ],
             [
              0.8888888888888888,
              "#fdca26"
             ],
             [
              1,
              "#f0f921"
             ]
            ],
            "type": "histogram2d"
           }
          ],
          "histogram2dcontour": [
           {
            "colorbar": {
             "outlinewidth": 0,
             "ticks": ""
            },
            "colorscale": [
             [
              0,
              "#0d0887"
             ],
             [
              0.1111111111111111,
              "#46039f"
             ],
             [
              0.2222222222222222,
              "#7201a8"
             ],
             [
              0.3333333333333333,
              "#9c179e"
             ],
             [
              0.4444444444444444,
              "#bd3786"
             ],
             [
              0.5555555555555556,
              "#d8576b"
             ],
             [
              0.6666666666666666,
              "#ed7953"
             ],
             [
              0.7777777777777778,
              "#fb9f3a"
             ],
             [
              0.8888888888888888,
              "#fdca26"
             ],
             [
              1,
              "#f0f921"
             ]
            ],
            "type": "histogram2dcontour"
           }
          ],
          "mesh3d": [
           {
            "colorbar": {
             "outlinewidth": 0,
             "ticks": ""
            },
            "type": "mesh3d"
           }
          ],
          "parcoords": [
           {
            "line": {
             "colorbar": {
              "outlinewidth": 0,
              "ticks": ""
             }
            },
            "type": "parcoords"
           }
          ],
          "pie": [
           {
            "automargin": true,
            "type": "pie"
           }
          ],
          "scatter": [
           {
            "fillpattern": {
             "fillmode": "overlay",
             "size": 10,
             "solidity": 0.2
            },
            "type": "scatter"
           }
          ],
          "scatter3d": [
           {
            "line": {
             "colorbar": {
              "outlinewidth": 0,
              "ticks": ""
             }
            },
            "marker": {
             "colorbar": {
              "outlinewidth": 0,
              "ticks": ""
             }
            },
            "type": "scatter3d"
           }
          ],
          "scattercarpet": [
           {
            "marker": {
             "colorbar": {
              "outlinewidth": 0,
              "ticks": ""
             }
            },
            "type": "scattercarpet"
           }
          ],
          "scattergeo": [
           {
            "marker": {
             "colorbar": {
              "outlinewidth": 0,
              "ticks": ""
             }
            },
            "type": "scattergeo"
           }
          ],
          "scattergl": [
           {
            "marker": {
             "colorbar": {
              "outlinewidth": 0,
              "ticks": ""
             }
            },
            "type": "scattergl"
           }
          ],
          "scattermap": [
           {
            "marker": {
             "colorbar": {
              "outlinewidth": 0,
              "ticks": ""
             }
            },
            "type": "scattermap"
           }
          ],
          "scattermapbox": [
           {
            "marker": {
             "colorbar": {
              "outlinewidth": 0,
              "ticks": ""
             }
            },
            "type": "scattermapbox"
           }
          ],
          "scatterpolar": [
           {
            "marker": {
             "colorbar": {
              "outlinewidth": 0,
              "ticks": ""
             }
            },
            "type": "scatterpolar"
           }
          ],
          "scatterpolargl": [
           {
            "marker": {
             "colorbar": {
              "outlinewidth": 0,
              "ticks": ""
             }
            },
            "type": "scatterpolargl"
           }
          ],
          "scatterternary": [
           {
            "marker": {
             "colorbar": {
              "outlinewidth": 0,
              "ticks": ""
             }
            },
            "type": "scatterternary"
           }
          ],
          "surface": [
           {
            "colorbar": {
             "outlinewidth": 0,
             "ticks": ""
            },
            "colorscale": [
             [
              0,
              "#0d0887"
             ],
             [
              0.1111111111111111,
              "#46039f"
             ],
             [
              0.2222222222222222,
              "#7201a8"
             ],
             [
              0.3333333333333333,
              "#9c179e"
             ],
             [
              0.4444444444444444,
              "#bd3786"
             ],
             [
              0.5555555555555556,
              "#d8576b"
             ],
             [
              0.6666666666666666,
              "#ed7953"
             ],
             [
              0.7777777777777778,
              "#fb9f3a"
             ],
             [
              0.8888888888888888,
              "#fdca26"
             ],
             [
              1,
              "#f0f921"
             ]
            ],
            "type": "surface"
           }
          ],
          "table": [
           {
            "cells": {
             "fill": {
              "color": "#EBF0F8"
             },
             "line": {
              "color": "white"
             }
            },
            "header": {
             "fill": {
              "color": "#C8D4E3"
             },
             "line": {
              "color": "white"
             }
            },
            "type": "table"
           }
          ]
         },
         "layout": {
          "annotationdefaults": {
           "arrowcolor": "#2a3f5f",
           "arrowhead": 0,
           "arrowwidth": 1
          },
          "autotypenumbers": "strict",
          "coloraxis": {
           "colorbar": {
            "outlinewidth": 0,
            "ticks": ""
           }
          },
          "colorscale": {
           "diverging": [
            [
             0,
             "#8e0152"
            ],
            [
             0.1,
             "#c51b7d"
            ],
            [
             0.2,
             "#de77ae"
            ],
            [
             0.3,
             "#f1b6da"
            ],
            [
             0.4,
             "#fde0ef"
            ],
            [
             0.5,
             "#f7f7f7"
            ],
            [
             0.6,
             "#e6f5d0"
            ],
            [
             0.7,
             "#b8e186"
            ],
            [
             0.8,
             "#7fbc41"
            ],
            [
             0.9,
             "#4d9221"
            ],
            [
             1,
             "#276419"
            ]
           ],
           "sequential": [
            [
             0,
             "#0d0887"
            ],
            [
             0.1111111111111111,
             "#46039f"
            ],
            [
             0.2222222222222222,
             "#7201a8"
            ],
            [
             0.3333333333333333,
             "#9c179e"
            ],
            [
             0.4444444444444444,
             "#bd3786"
            ],
            [
             0.5555555555555556,
             "#d8576b"
            ],
            [
             0.6666666666666666,
             "#ed7953"
            ],
            [
             0.7777777777777778,
             "#fb9f3a"
            ],
            [
             0.8888888888888888,
             "#fdca26"
            ],
            [
             1,
             "#f0f921"
            ]
           ],
           "sequentialminus": [
            [
             0,
             "#0d0887"
            ],
            [
             0.1111111111111111,
             "#46039f"
            ],
            [
             0.2222222222222222,
             "#7201a8"
            ],
            [
             0.3333333333333333,
             "#9c179e"
            ],
            [
             0.4444444444444444,
             "#bd3786"
            ],
            [
             0.5555555555555556,
             "#d8576b"
            ],
            [
             0.6666666666666666,
             "#ed7953"
            ],
            [
             0.7777777777777778,
             "#fb9f3a"
            ],
            [
             0.8888888888888888,
             "#fdca26"
            ],
            [
             1,
             "#f0f921"
            ]
           ]
          },
          "colorway": [
           "#636efa",
           "#EF553B",
           "#00cc96",
           "#ab63fa",
           "#FFA15A",
           "#19d3f3",
           "#FF6692",
           "#B6E880",
           "#FF97FF",
           "#FECB52"
          ],
          "font": {
           "color": "#2a3f5f"
          },
          "geo": {
           "bgcolor": "white",
           "lakecolor": "white",
           "landcolor": "white",
           "showlakes": true,
           "showland": true,
           "subunitcolor": "#C8D4E3"
          },
          "hoverlabel": {
           "align": "left"
          },
          "hovermode": "closest",
          "mapbox": {
           "style": "light"
          },
          "paper_bgcolor": "white",
          "plot_bgcolor": "white",
          "polar": {
           "angularaxis": {
            "gridcolor": "#EBF0F8",
            "linecolor": "#EBF0F8",
            "ticks": ""
           },
           "bgcolor": "white",
           "radialaxis": {
            "gridcolor": "#EBF0F8",
            "linecolor": "#EBF0F8",
            "ticks": ""
           }
          },
          "scene": {
           "xaxis": {
            "backgroundcolor": "white",
            "gridcolor": "#DFE8F3",
            "gridwidth": 2,
            "linecolor": "#EBF0F8",
            "showbackground": true,
            "ticks": "",
            "zerolinecolor": "#EBF0F8"
           },
           "yaxis": {
            "backgroundcolor": "white",
            "gridcolor": "#DFE8F3",
            "gridwidth": 2,
            "linecolor": "#EBF0F8",
            "showbackground": true,
            "ticks": "",
            "zerolinecolor": "#EBF0F8"
           },
           "zaxis": {
            "backgroundcolor": "white",
            "gridcolor": "#DFE8F3",
            "gridwidth": 2,
            "linecolor": "#EBF0F8",
            "showbackground": true,
            "ticks": "",
            "zerolinecolor": "#EBF0F8"
           }
          },
          "shapedefaults": {
           "line": {
            "color": "#2a3f5f"
           }
          },
          "ternary": {
           "aaxis": {
            "gridcolor": "#DFE8F3",
            "linecolor": "#A2B1C6",
            "ticks": ""
           },
           "baxis": {
            "gridcolor": "#DFE8F3",
            "linecolor": "#A2B1C6",
            "ticks": ""
           },
           "bgcolor": "white",
           "caxis": {
            "gridcolor": "#DFE8F3",
            "linecolor": "#A2B1C6",
            "ticks": ""
           }
          },
          "title": {
           "x": 0.05
          },
          "xaxis": {
           "automargin": true,
           "gridcolor": "#EBF0F8",
           "linecolor": "#EBF0F8",
           "ticks": "",
           "title": {
            "standoff": 15
           },
           "zerolinecolor": "#EBF0F8",
           "zerolinewidth": 2
          },
          "yaxis": {
           "automargin": true,
           "gridcolor": "#EBF0F8",
           "linecolor": "#EBF0F8",
           "ticks": "",
           "title": {
            "standoff": 15
           },
           "zerolinecolor": "#EBF0F8",
           "zerolinewidth": 2
          }
         }
        },
        "title": {
         "text": "So sánh giá trị thực tế, dự đoán và điểm tương lai (ElasticNet)"
        },
        "xaxis": {
         "title": {
          "text": "Thời gian (index)"
         }
        },
        "yaxis": {
         "title": {
          "text": "Giá trị chuẩn hóa"
         }
        }
       }
      }
     },
     "metadata": {},
     "output_type": "display_data"
    }
   ],
   "source": [
    "import numpy as np\n",
    "import plotly.graph_objects as go\n",
    "\n",
    "# --- So sánh thực tế và dự đoán trên tập test ---\n",
    "fig = go.Figure()\n",
    "\n",
    "# Đường thực tế\n",
    "fig.add_trace(go.Scatter(\n",
    "    y=y_test,\n",
    "    mode='lines+markers',\n",
    "    name='Thực tế'\n",
    "))\n",
    "\n",
    "# --- Dự đoán 1 điểm tương lai ---\n",
    "X_last = X_test.iloc[-1].values.reshape(1, -1)\n",
    "future_pred = model.predict(X_last)[0]\n",
    "\n",
    "# Ghép thêm điểm mới vào chuỗi dự đoán\n",
    "y_pred_extended = np.append(y_pred, future_pred)\n",
    "\n",
    "# Đường dự đoán (đã nối điểm mới)\n",
    "fig.add_trace(go.Scatter(\n",
    "    y=y_pred_extended,\n",
    "    mode='lines+markers',\n",
    "    name='Dự đoán + Tương lai'\n",
    "))\n",
    "\n",
    "# Layout\n",
    "fig.update_layout(\n",
    "    title=\"So sánh giá trị thực tế, dự đoán và điểm tương lai (ElasticNet)\",\n",
    "    xaxis_title=\"Thời gian (index)\",\n",
    "    yaxis_title=\"Giá trị chuẩn hóa\",\n",
    "    template=\"plotly_white\"\n",
    ")\n",
    "\n",
    "fig.show()\n"
   ]
  },
  {
   "cell_type": "markdown",
   "id": "2addb185",
   "metadata": {},
   "source": [
    "# Save model"
   ]
  },
  {
   "cell_type": "code",
   "execution_count": 30,
   "id": "1295c19d",
   "metadata": {},
   "outputs": [],
   "source": [
    "import joblib\n",
    "\n",
    "# Lưu model\n",
    "joblib.dump(model, \"model/elasticnet_model.pkl\")\n",
    "\n",
    "# Khi cần load lại\n",
    "loaded_model = joblib.load(\"model/elasticnet_model.pkl\")\n",
    "\n",
    "# Dùng lại để dự đoán\n",
    "y_loaded_pred = loaded_model.predict(X_test)"
   ]
  },
  {
   "cell_type": "code",
   "execution_count": null,
   "id": "5445ccdc",
   "metadata": {},
   "outputs": [],
   "source": []
  }
 ],
 "metadata": {
  "kernelspec": {
   "display_name": "revo",
   "language": "python",
   "name": "python3"
  },
  "language_info": {
   "codemirror_mode": {
    "name": "ipython",
    "version": 3
   },
   "file_extension": ".py",
   "mimetype": "text/x-python",
   "name": "python",
   "nbconvert_exporter": "python",
   "pygments_lexer": "ipython3",
   "version": "3.10.0"
  }
 },
 "nbformat": 4,
 "nbformat_minor": 5
}
